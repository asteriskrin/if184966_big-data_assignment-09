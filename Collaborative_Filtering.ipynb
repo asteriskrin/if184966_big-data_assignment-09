{
  "nbformat": 4,
  "nbformat_minor": 0,
  "metadata": {
    "colab": {
      "provenance": []
    },
    "kernelspec": {
      "name": "python3",
      "display_name": "Python 3"
    },
    "language_info": {
      "name": "python"
    }
  },
  "cells": [
    {
      "cell_type": "markdown",
      "source": [
        "# Collaborative Filtering\n",
        "Written by: Ryan Garnet Andrianto (Student ID: 05111940000063)\n",
        "\n",
        "Learning source: https://spark.apache.org/docs/latest/ml-collaborative-filtering.html"
      ],
      "metadata": {
        "id": "c496-MHQBvDm"
      }
    },
    {
      "cell_type": "markdown",
      "source": [
        "## Download dataset\n",
        "First, we download the dataset. We use `wget` to download the dataset since we have the direct download link for it."
      ],
      "metadata": {
        "id": "xhM_pERUB0hm"
      }
    },
    {
      "cell_type": "code",
      "execution_count": 1,
      "metadata": {
        "colab": {
          "base_uri": "https://localhost:8080/"
        },
        "id": "t4sjvk2xAhrs",
        "outputId": "feee633b-4c4b-4805-aa9b-364ef4e3a33e"
      },
      "outputs": [
        {
          "output_type": "stream",
          "name": "stdout",
          "text": [
            "--2023-04-12 15:13:32--  https://raw.githubusercontent.com/apache/spark/master/data/mllib/als/sample_movielens_ratings.txt\n",
            "Resolving raw.githubusercontent.com (raw.githubusercontent.com)... 185.199.108.133, 185.199.109.133, 185.199.110.133, ...\n",
            "Connecting to raw.githubusercontent.com (raw.githubusercontent.com)|185.199.108.133|:443... connected.\n",
            "HTTP request sent, awaiting response... 200 OK\n",
            "Length: 32363 (32K) [text/plain]\n",
            "Saving to: ‘sample_movielens_ratings.txt’\n",
            "\n",
            "\r          sample_mo   0%[                    ]       0  --.-KB/s               \rsample_movielens_ra 100%[===================>]  31.60K  --.-KB/s    in 0s      \n",
            "\n",
            "2023-04-12 15:13:32 (64.9 MB/s) - ‘sample_movielens_ratings.txt’ saved [32363/32363]\n",
            "\n"
          ]
        }
      ],
      "source": [
        "!wget https://raw.githubusercontent.com/apache/spark/master/data/mllib/als/sample_movielens_ratings.txt"
      ]
    },
    {
      "cell_type": "markdown",
      "source": [
        "## Install pySpark\n",
        "We will need pySpark to conduct this Collaborative Filtering. Hence, we need to install pyspark python module by using `pip` command."
      ],
      "metadata": {
        "id": "rx9ekKrrFrPq"
      }
    },
    {
      "cell_type": "code",
      "source": [
        "!pip install pyspark"
      ],
      "metadata": {
        "colab": {
          "base_uri": "https://localhost:8080/"
        },
        "id": "PGrRwS-oB-13",
        "outputId": "89590382-2a77-4928-920f-081c7ff8fcea"
      },
      "execution_count": 3,
      "outputs": [
        {
          "output_type": "stream",
          "name": "stdout",
          "text": [
            "Looking in indexes: https://pypi.org/simple, https://us-python.pkg.dev/colab-wheels/public/simple/\n",
            "Collecting pyspark\n",
            "  Downloading pyspark-3.3.2.tar.gz (281.4 MB)\n",
            "\u001b[2K     \u001b[90m━━━━━━━━━━━━━━━━━━━━━━━━━━━━━━━━━━━━━━━\u001b[0m \u001b[32m281.4/281.4 MB\u001b[0m \u001b[31m4.9 MB/s\u001b[0m eta \u001b[36m0:00:00\u001b[0m\n",
            "\u001b[?25h  Preparing metadata (setup.py) ... \u001b[?25l\u001b[?25hdone\n",
            "Collecting py4j==0.10.9.5\n",
            "  Downloading py4j-0.10.9.5-py2.py3-none-any.whl (199 kB)\n",
            "\u001b[2K     \u001b[90m━━━━━━━━━━━━━━━━━━━━━━━━━━━━━━━━━━━━━━\u001b[0m \u001b[32m199.7/199.7 kB\u001b[0m \u001b[31m22.5 MB/s\u001b[0m eta \u001b[36m0:00:00\u001b[0m\n",
            "\u001b[?25hBuilding wheels for collected packages: pyspark\n",
            "  Building wheel for pyspark (setup.py) ... \u001b[?25l\u001b[?25hdone\n",
            "  Created wheel for pyspark: filename=pyspark-3.3.2-py2.py3-none-any.whl size=281824028 sha256=a21251a0407b4b0b30502e18c11d3718024d28778cf1decd726aaf4b885c2912\n",
            "  Stored in directory: /root/.cache/pip/wheels/6c/e3/9b/0525ce8a69478916513509d43693511463c6468db0de237c86\n",
            "Successfully built pyspark\n",
            "Installing collected packages: py4j, pyspark\n",
            "  Attempting uninstall: py4j\n",
            "    Found existing installation: py4j 0.10.9.7\n",
            "    Uninstalling py4j-0.10.9.7:\n",
            "      Successfully uninstalled py4j-0.10.9.7\n",
            "Successfully installed py4j-0.10.9.5 pyspark-3.3.2\n"
          ]
        }
      ]
    },
    {
      "cell_type": "markdown",
      "source": [
        "## Create spark session\n",
        "After we install the pySpark python module, we can create a spark session and name it `collaborativeFiltering`."
      ],
      "metadata": {
        "id": "AMFL6GcgGP4_"
      }
    },
    {
      "cell_type": "code",
      "source": [
        "from pyspark.sql import SparkSession\n",
        "\n",
        "# Create spark session\n",
        "spark = SparkSession \\\n",
        "    .builder \\\n",
        "    .appName('collaborativeFiltering') \\\n",
        "    .getOrCreate()\n",
        "\n",
        "spark   "
      ],
      "metadata": {
        "colab": {
          "base_uri": "https://localhost:8080/",
          "height": 219
        },
        "id": "T2PJUOc1CTeB",
        "outputId": "9af00041-1c28-4297-a495-5b4d97378c9a"
      },
      "execution_count": 6,
      "outputs": [
        {
          "output_type": "execute_result",
          "data": {
            "text/plain": [
              "<pyspark.sql.session.SparkSession at 0x7fc4a5aea880>"
            ],
            "text/html": [
              "\n",
              "            <div>\n",
              "                <p><b>SparkSession - in-memory</b></p>\n",
              "                \n",
              "        <div>\n",
              "            <p><b>SparkContext</b></p>\n",
              "\n",
              "            <p><a href=\"http://7b50362b5682:4040\">Spark UI</a></p>\n",
              "\n",
              "            <dl>\n",
              "              <dt>Version</dt>\n",
              "                <dd><code>v3.3.2</code></dd>\n",
              "              <dt>Master</dt>\n",
              "                <dd><code>local[*]</code></dd>\n",
              "              <dt>AppName</dt>\n",
              "                <dd><code>pyspark-shell</code></dd>\n",
              "            </dl>\n",
              "        </div>\n",
              "        \n",
              "            </div>\n",
              "        "
            ]
          },
          "metadata": {},
          "execution_count": 6
        }
      ]
    },
    {
      "cell_type": "markdown",
      "source": [
        "## Import required library / module\n",
        "In this collaborative filtering, we will need `RegressionEvaluator` to measure RMSE (Root-mean-square error), `ALS` (Alternating Least Squares), and `Row`. Thus, we import those class into our project."
      ],
      "metadata": {
        "id": "1aUyBij2GbW_"
      }
    },
    {
      "cell_type": "code",
      "source": [
        "from pyspark.ml.evaluation import RegressionEvaluator\n",
        "from pyspark.ml.recommendation import ALS\n",
        "from pyspark.sql import Row"
      ],
      "metadata": {
        "id": "K2gJ4kkHB4YP"
      },
      "execution_count": 7,
      "outputs": []
    },
    {
      "cell_type": "markdown",
      "source": [
        "## Read data and convert it to RDD (Resilient Distributed Datasets)\n",
        "We read the dataset and store it as RDD."
      ],
      "metadata": {
        "id": "dbUrS0NxGbWQ"
      }
    },
    {
      "cell_type": "code",
      "source": [
        "lines = spark.read.text(\"sample_movielens_ratings.txt\").rdd\n",
        "parts = lines.map(lambda row: row.value.split(\"::\"))\n",
        "ratingsRDD = parts.map(lambda p: Row(userId=int(p[0]), movieId=int(p[1]),\n",
        "                                     rating=float(p[2]), timestamp=int(p[3])))\n",
        "ratings = spark.createDataFrame(ratingsRDD)\n",
        "(training, test) = ratings.randomSplit([0.8, 0.2])"
      ],
      "metadata": {
        "id": "DARa1Y-2CNPp"
      },
      "execution_count": 8,
      "outputs": []
    },
    {
      "cell_type": "markdown",
      "source": [
        "## Create the test cases\n",
        "Our goal is to find a pair of maxIter and regParam value that has minimum RMSE value. In this case, we use maxIter = [5, 10, 20] and regParam = [0.01, 0.1, 0.5, 1.0]. The test case should be cross product of those unit tests."
      ],
      "metadata": {
        "id": "nkGAZ6q_FnDZ"
      }
    },
    {
      "cell_type": "code",
      "source": [
        "# maxIter test\n",
        "maxIter_test = [5, 10, 20]\n",
        "regParam_test = [0.01, 0.1, 0.5, 1.0]\n",
        "\n",
        "testCase = []\n",
        "# Cross product between maxIter_test and regParam_test\n",
        "for t1 in maxIter_test:\n",
        "  for t2 in regParam_test:\n",
        "    testCase.append({\n",
        "        \"maxIter\": t1,\n",
        "        \"regParam\": t2\n",
        "    })\n",
        "\n",
        "# Show test cases\n",
        "print(testCase)"
      ],
      "metadata": {
        "colab": {
          "base_uri": "https://localhost:8080/"
        },
        "id": "usWA0uHBC8Zn",
        "outputId": "2830d81c-c15b-4667-e3e0-1471f9f53f7b"
      },
      "execution_count": 15,
      "outputs": [
        {
          "output_type": "stream",
          "name": "stdout",
          "text": [
            "[{'maxIter': 5, 'regParam': 0.01}, {'maxIter': 5, 'regParam': 0.1}, {'maxIter': 5, 'regParam': 0.5}, {'maxIter': 5, 'regParam': 1.0}, {'maxIter': 10, 'regParam': 0.01}, {'maxIter': 10, 'regParam': 0.1}, {'maxIter': 10, 'regParam': 0.5}, {'maxIter': 10, 'regParam': 1.0}, {'maxIter': 20, 'regParam': 0.01}, {'maxIter': 20, 'regParam': 0.1}, {'maxIter': 20, 'regParam': 0.5}, {'maxIter': 20, 'regParam': 1.0}]\n"
          ]
        }
      ]
    },
    {
      "cell_type": "markdown",
      "source": [
        "## Create the models\n",
        "We create a model for each test cases.\n"
      ],
      "metadata": {
        "id": "-6i6FYkrFjmp"
      }
    },
    {
      "cell_type": "code",
      "source": [
        "# Create model for each test cases\n",
        "models = []\n",
        "\n",
        "for tc in testCase:\n",
        "  # Build the recommendation model using ALS on the training data\n",
        "  # Note we set cold start strategy to 'drop' to ensure we don't get NaN evaluation metrics\n",
        "  als = ALS(maxIter=tc[\"maxIter\"], regParam=tc[\"regParam\"], userCol=\"userId\", itemCol=\"movieId\", ratingCol=\"rating\",\n",
        "            coldStartStrategy=\"drop\")\n",
        "  model = als.fit(training)\n",
        "\n",
        "  models.append(model)"
      ],
      "metadata": {
        "id": "ufww1mveDvIc"
      },
      "execution_count": 16,
      "outputs": []
    },
    {
      "cell_type": "markdown",
      "source": [
        "## Evaluate the models\n",
        "After we create the models, we evaluate each of the models.\n",
        "\n"
      ],
      "metadata": {
        "id": "6A1hrDBfFeOo"
      }
    },
    {
      "cell_type": "code",
      "source": [
        "# Create regression evaluator\n",
        "evaluator = RegressionEvaluator(metricName=\"rmse\", labelCol=\"rating\",\n",
        "                                  predictionCol=\"prediction\")\n",
        "# Evaluate each model in the test cases\n",
        "for id in range(0, len(testCase)):\n",
        "  # Evaluate the model by computing the RMSE on the test data\n",
        "  predictions = models[id].transform(test)\n",
        "  rmse = evaluator.evaluate(predictions)\n",
        "  print(\"For maxIter = \" + str(testCase[id][\"maxIter\"]) + \", regParam = \" + str(testCase[id][\"regParam\"]) + \", the Root-mean-square error = \" + str(rmse))"
      ],
      "metadata": {
        "colab": {
          "base_uri": "https://localhost:8080/"
        },
        "id": "z_EMEPIoCzem",
        "outputId": "cc0b6d3c-4b72-4575-fc03-47e0fcea556d"
      },
      "execution_count": 19,
      "outputs": [
        {
          "output_type": "stream",
          "name": "stdout",
          "text": [
            "For maxIter = 5, regParam = 0.01, the Root-mean-square error = 1.7062862282987898\n",
            "For maxIter = 5, regParam = 0.1, the Root-mean-square error = 0.9236789089860488\n",
            "For maxIter = 5, regParam = 0.5, the Root-mean-square error = 1.1725188816296388\n",
            "For maxIter = 5, regParam = 1.0, the Root-mean-square error = 1.4590015642689835\n",
            "For maxIter = 10, regParam = 0.01, the Root-mean-square error = 1.5783056204812427\n",
            "For maxIter = 10, regParam = 0.1, the Root-mean-square error = 0.914439664825006\n",
            "For maxIter = 10, regParam = 0.5, the Root-mean-square error = 1.1693271714900164\n",
            "For maxIter = 10, regParam = 1.0, the Root-mean-square error = 1.4590026970984464\n",
            "For maxIter = 20, regParam = 0.01, the Root-mean-square error = 1.4714557513537374\n",
            "For maxIter = 20, regParam = 0.1, the Root-mean-square error = 0.9232271611157146\n",
            "For maxIter = 20, regParam = 0.5, the Root-mean-square error = 1.1695704941189702\n",
            "For maxIter = 20, regParam = 1.0, the Root-mean-square error = 1.4590027018137415\n"
          ]
        }
      ]
    },
    {
      "cell_type": "markdown",
      "source": [
        "## Conclusion\n",
        "By using maxIter = 10 and regParam = 0.1, the Root-mean-square error becomes 0.91 which is the lowest among the result."
      ],
      "metadata": {
        "id": "e9Ck6V5SFOJY"
      }
    }
  ]
}